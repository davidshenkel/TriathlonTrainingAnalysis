{
 "cells": [
  {
   "cell_type": "code",
   "execution_count": 19,
   "metadata": {},
   "outputs": [
    {
     "name": "stdout",
     "output_type": "stream",
     "text": [
      "Number of Rows: 3117\n",
      "Min Date: 2014-01-01\n",
      "Max Date: 2019-10-26\n"
     ]
    }
   ],
   "source": [
    "import pandas as pd\n",
    "import zipfile as zf\n",
    "\n",
    "## Load Several Years of Workout Data \n",
    "df1 = pd.read_csv(\"workouts1.csv\")\n",
    "df2 = pd.read_csv(\"workouts2.csv\")\n",
    "df3 = pd.read_csv(\"workouts3.csv\")\n",
    "df4 = pd.read_csv(\"workouts4.csv\")\n",
    "df5 = pd.read_csv(\"workouts5.csv\")\n",
    "df6 = pd.read_csv(\"workouts6.csv\")\n",
    "##print(df1.loc[:1])\n",
    "##print(df2.loc[:1])\n",
    "\n",
    "## Merge\n",
    "frames = [df1, df2, df3, df4, df5, df6]\n",
    "result = pd.concat(frames)\n",
    "\n",
    "## Review Data in Results Table\n",
    "##result.head(2)\n",
    "##result.info()\n",
    "##print (df1[['WorkoutDay']])\n",
    "total_rows = result['WorkoutDay'].count()\n",
    "print (\"Number of Rows:\",total_rows)\n",
    "mindate = result['WorkoutDay'].min()\n",
    "maxdate = result['WorkoutDay'].max()\n",
    "print(\"Min Date:\",mindate)\n",
    "print(\"Max Date:\",maxdate)\n",
    "\n",
    "##Filter on Bike workouts\n",
    "##Index Year\n",
    "##Calculate Avg Weekly TSS by Month\n",
    "##Calculate # Days per week with TSS > 65\n",
    "##Graph by Month and series = year\n"
   ]
  },
  {
   "cell_type": "code",
   "execution_count": null,
   "metadata": {},
   "outputs": [],
   "source": []
  },
  {
   "cell_type": "code",
   "execution_count": null,
   "metadata": {},
   "outputs": [],
   "source": []
  }
 ],
 "metadata": {
  "kernelspec": {
   "display_name": "Python 3",
   "language": "python",
   "name": "python3"
  },
  "language_info": {
   "codemirror_mode": {
    "name": "ipython",
    "version": 3
   },
   "file_extension": ".py",
   "mimetype": "text/x-python",
   "name": "python",
   "nbconvert_exporter": "python",
   "pygments_lexer": "ipython3",
   "version": "3.7.4"
  }
 },
 "nbformat": 4,
 "nbformat_minor": 4
}
